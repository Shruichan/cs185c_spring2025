{
 "cells": [
  {
   "cell_type": "markdown",
   "id": "ac315843-71bf-43bf-b162-ae84858f6c1e",
   "metadata": {},
   "source": [
    "# Homework 4: Analyzing Rates of Sea Level Rise\n",
    "In this homework, you'll investigate sea level change using data from the ECCO state estimate. You'll look at spatial differences over the past few decades and then compare how sea level on the California coast compares to the global mean.\n",
    "\n",
    "Begin by importing the modules you'll need for this notebook:"
   ]
  },
  {
   "cell_type": "code",
   "execution_count": null,
   "id": "42a164f4-0b3b-4e8d-9206-0af5fac0afab",
   "metadata": {},
   "outputs": [],
   "source": [
    "# import packages here\n",
    "import numpy as np\n",
    "import matplotlib.pyplot as plt\n",
    "import netCDF4 as nc4"
   ]
  },
  {
   "cell_type": "markdown",
   "id": "38311063-0cfc-4392-87a6-6c62a859066b",
   "metadata": {},
   "source": [
    "## Part 1: Download Sea Surface Height Data\n",
    "To begin this exercise, download all of the available sea surface height data (1992-2017) from the ECCO Version 4 Release 4 output. There are several different variables for sea surface height pertaining to different components and corrections. In this homework, we'll use the `SSHDYN` variable which is equivalent to what satellites would measure from space.\n",
    "\n",
    "To obtain the data, use the [Downloading ECCO Data](https://github.com/ProfMikeWood/ocean_modeling_book/blob/main/tools/Downloading%20ECCO%20Data.ipynb) notebook provided with the course notes."
   ]
  },
  {
   "cell_type": "code",
   "execution_count": null,
   "id": "b06b3280-fc76-41b1-b917-b7cadaa2d4fe",
   "metadata": {},
   "outputs": [],
   "source": [
    "# define the path to the folder where the SSH data has been download on your machine\n",
    "ssh_folder = ''"
   ]
  },
  {
   "cell_type": "markdown",
   "id": "2bbd62f4-aad1-4091-a664-e1f755e281cb",
   "metadata": {},
   "source": [
    "## Part 2: Plot Total Sea Level Rise 1992-2017\n",
    "As a first look into how sea level has changed in the past several decades, we'll look at the differences between two time periods at the beginning and end of the available model output: January 1992 and January 2017. It is important to use the same month because variations in sea level also have a seasonal cycle (as we'll see below). Begin by reading in the data:"
   ]
  },
  {
   "cell_type": "code",
   "execution_count": null,
   "id": "ecfba528-5002-4c2a-a51e-a03f1835fd26",
   "metadata": {},
   "outputs": [],
   "source": [
    "# read in the longitude, latitude, and model ssh grid in January 1992 (SSHDYN_1992_01.nc)\n",
    "\n",
    "\n",
    "# read in the model ssh grid in January 2017 (SSHDYN_2017_01.nc)\n"
   ]
  },
  {
   "cell_type": "markdown",
   "id": "796d415c-7fc4-4ac0-8854-8d7f1cd82511",
   "metadata": {},
   "source": [
    "Now, make a plot of the difference between January 2017 and January 1992. Be sure to add a colorbar with a divergent colormaps and set the color bounds to be equal in the positive and negative directions."
   ]
  },
  {
   "cell_type": "code",
   "execution_count": null,
   "id": "a27a62d0-424a-4b1d-ac40-de0a9abe3813",
   "metadata": {},
   "outputs": [],
   "source": [
    "# make a plot of the differences between 2017 and 1992\n"
   ]
  },
  {
   "cell_type": "markdown",
   "id": "153086c4-ff70-4935-bddb-444dd3e5f9c0",
   "metadata": {},
   "source": [
    "### Questions:\n",
    "Where are the largest increases in sea level observed between these two time periods? Are there any locations on the globe where sea level has fallen? If so, where?\n",
    "\n",
    "Answer: *Enter your answer here*"
   ]
  },
  {
   "cell_type": "markdown",
   "id": "232e0e75-f958-462d-ac14-eaa6edf24521",
   "metadata": {},
   "source": [
    "## Part 3: Create a Timeseries of Sea Surface Height in California\n",
    "Next, we'll make a timeseries of sea surface height at a point off the California coast near San José. A close location in the model is at 37$^{\\circ}$N, 122$^{\\circ}$W. Begin by finding the closest row and column in the model grid to this longitude and latitude."
   ]
  },
  {
   "cell_type": "code",
   "execution_count": null,
   "id": "a01bda6b-1a4d-452b-ada7-4d6d7c3ca90a",
   "metadata": {},
   "outputs": [],
   "source": [
    "# define the latitude and longitude\n",
    "lon = -122\n",
    "lat = 37\n",
    "\n",
    "# find the row and column closest to the location of the point off the CA coast\n",
    "# note that you have already read in the longitude and latitude if the grid to make the plot above\n"
   ]
  },
  {
   "cell_type": "markdown",
   "id": "c656d385-a5f0-4f9b-a692-d1713cf015fb",
   "metadata": {},
   "source": [
    "Now, armed with your sample location, loop through each sea surface height file to make a timeseries of sea level rise between 1992 and 2017. Every time you access a file, sample the model grid at the row and column you identified above."
   ]
  },
  {
   "cell_type": "code",
   "execution_count": null,
   "id": "7eb034a7-2db9-402b-bbe3-2f2d69371694",
   "metadata": {},
   "outputs": [],
   "source": [
    "# create a timeseries of ssh at the point above by looping through all of the ssh files\n",
    "# each time through the loop, sample the ssh grid at the row and column identified above\n",
    "# your timeseries should be an (N,2) array with time in the first column and ssh values in the second\n"
   ]
  },
  {
   "cell_type": "markdown",
   "id": "9811c042-20af-45c6-8274-bd7c902cbaf3",
   "metadata": {},
   "source": [
    "## Part 4: Create a Timeseries of Global Mean Sea Surface Height\n",
    "Next, make a timeseries of sea surface height averaged across the globe. Your loop should look quite similar to that above - you'll just need to make a slight change to average across the whole ocean rather than sampling at a single point."
   ]
  },
  {
   "cell_type": "code",
   "execution_count": null,
   "id": "a19b2845-5226-4a71-9d69-6ed3ef944f31",
   "metadata": {},
   "outputs": [],
   "source": [
    "# create a timeseries of the global mean ssh by looping through all of the ssh files\n",
    "# each time through the loop, take the mean of the ssh grid at the row and column identified above\n",
    "# when you take the mean, be sure to exclude 0 values, which pertain to land\n",
    "# your timeseries should be an (N,2) array with time in the first column and ssh values in the second\n"
   ]
  },
  {
   "cell_type": "markdown",
   "id": "dc7338b5-d7de-4109-9bf2-94b1acfdc82f",
   "metadata": {},
   "source": [
    "## Part 5: Compute Trends in Sea Surface Height\n",
    "To compare the two timeseries, compute trends by fitting a line to each timeseries and examining the slope. Print out each trend in mm/yr, rounded to 2 decimal places. Note that the units of sea surface height are in meters."
   ]
  },
  {
   "cell_type": "code",
   "execution_count": null,
   "id": "5ca34584-663c-480b-850d-7d0c67e29ca0",
   "metadata": {},
   "outputs": [],
   "source": [
    "# compute the trends in SLR by fitting a line to the CA and the global mean timeseries\n",
    "\n",
    "\n",
    "# print out the statistics in mm/yr for each timeseries\n"
   ]
  },
  {
   "cell_type": "markdown",
   "id": "38c908fa-4398-417b-81ab-37691d549872",
   "metadata": {},
   "source": [
    "### Question:\n",
    "How does the trend in sea level rise in California compare to the global mean rate?\n",
    "\n",
    "Answer: *Enter your answer here*"
   ]
  },
  {
   "cell_type": "markdown",
   "id": "c984952e-f3fe-4747-82ed-3c4c16621746",
   "metadata": {},
   "source": [
    "## Part 6: Plot the Timeseries of Sea Surface Height\n",
    "Finally, plot the two timeseries on the same plot along with their trend lines. Be sure to label your axes and include a legend."
   ]
  },
  {
   "cell_type": "code",
   "execution_count": null,
   "id": "833d1acc-d231-4fae-9bc8-0666026c14fa",
   "metadata": {},
   "outputs": [],
   "source": [
    "# create your plot here\n"
   ]
  },
  {
   "cell_type": "markdown",
   "id": "155e7a7b-508f-4acc-87b3-0f7172512cb5",
   "metadata": {},
   "source": [
    "### Questions:\n",
    "\n",
    "How do the timeseries for Calfiornia and the global mean compare? Comment on their variability. What are the two highest years of sea level in California? What oceanographic phenomenon happened during this time?\n",
    "\n",
    "Answer: *Enter your answer here*"
   ]
  }
 ],
 "metadata": {
  "kernelspec": {
   "display_name": "cs185c",
   "language": "python",
   "name": "python3"
  },
  "language_info": {
   "codemirror_mode": {
    "name": "ipython",
    "version": 3
   },
   "file_extension": ".py",
   "mimetype": "text/x-python",
   "name": "python",
   "nbconvert_exporter": "python",
   "pygments_lexer": "ipython3",
   "version": "3.11.11"
  }
 },
 "nbformat": 4,
 "nbformat_minor": 5
}
